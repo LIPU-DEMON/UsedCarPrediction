{
 "cells": [
  {
   "cell_type": "markdown",
   "id": "0d10e7d8-5f50-4342-93b9-4330eb1745f2",
   "metadata": {},
   "source": [
    "<p><h1><b>Report: Data Preparation</b></h1></p>\n",
    "<h4><li>Data Source : Cardekho dataset From Kaggle</li></h4>\n",
    "<li><strong>Problem : Predicting Used Cars Prices Based Upon their Features : Based On India</strong></li>\n",
    "<ul>\n",
    "    <ul><li>car_name</li></ul>\n",
    "    <ul><li>brand</li></ul>\n",
    "    <ul><li>model</li></ul>\n",
    "    <ul><li>vehicle_age</li></ul>\n",
    "    <ul><li>km_driven</li></ul>\n",
    "    <ul><li>seller_type</li></ul>\n",
    "    <ul><li>fuel_type</li></ul>\n",
    "    <ul><li>transmission_type</li></ul>\n",
    "    <ul><li>mileage</li></ul>\n",
    "    <ul><li>engine</li></ul>\n",
    "    <ul><li>max_power</li></ul>\n",
    "    <ul><li>seats</li></ul>\n",
    "    <ul><li>selling_price</li></ul>\n",
    "</ul>\n",
    "<li>Number Of Samples/DataPoints: 15410</li>\n",
    "<li>Number Of Independent Features: 12</li>\n",
    "<li>Number Of Dependent Features: 1</li>\n",
    "<li>DataTypes</li>\n",
    "<ul>\n",
    "    <ul><li>Object: 6 </li></ul>\n",
    "<ul><li>Float: 2 </li></ul>\n",
    "<ul><li>Integer: 5  </li></ul>\n",
    "</ul>\n"
   ]
  }
 ],
 "metadata": {
  "kernelspec": {
   "display_name": "Python 3 (ipykernel)",
   "language": "python",
   "name": "python3"
  },
  "language_info": {
   "codemirror_mode": {
    "name": "ipython",
    "version": 3
   },
   "file_extension": ".py",
   "mimetype": "text/x-python",
   "name": "python",
   "nbconvert_exporter": "python",
   "pygments_lexer": "ipython3",
   "version": "3.11.3"
  }
 },
 "nbformat": 4,
 "nbformat_minor": 5
}
