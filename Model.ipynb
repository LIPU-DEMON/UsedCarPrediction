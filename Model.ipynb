{
 "cells": [
  {
   "cell_type": "code",
   "execution_count": 1,
   "id": "8438f29a-cbe0-4417-922b-59f336db4645",
   "metadata": {},
   "outputs": [],
   "source": [
    "#import required Libraries!\n",
    "import pandas as pd\n",
    "import numpy as np \n",
    "import seaborn as sns\n",
    "import matplotlib.pyplot as plt\n",
    "from sklearn.preprocessing import OneHotEncoder\n",
    "from sklearn.preprocessing import StandardScaler\n",
    "from sklearn.decomposition import PCA\n",
    "from sklearn.model_selection import RandomizedSearchCV,GridSearchCV\n",
    "import warnings"
   ]
  },
  {
   "cell_type": "markdown",
   "id": "8dc6f80d-0e2b-4b4f-8b01-1be6c5da2d3c",
   "metadata": {},
   "source": [
    "<ul>\n",
    "    <li type=\"I\"><strong>Problem : Predicting Used Cars Prices Based Upon their Features : Based On India</strong></li>\n",
    "    <ul><li>car_name</li></ul>\n",
    "    <ul><li>brand</li></ul>\n",
    "    <ul><li>model</li></ul>\n",
    "    <ul><li>vehicle_age</li></ul>\n",
    "    <ul><li>km_driven</li></ul>\n",
    "    <ul><li>seller_type</li></ul>\n",
    "    <ul><li>fuel_type</li></ul>\n",
    "    <ul><li>transmission_type</li></ul>\n",
    "    <ul><li>mileage</li></ul>\n",
    "    <ul><li>engine</li></ul>\n",
    "    <ul><li>max_power</li></ul>\n",
    "    <ul><li>seats</li></ul>\n",
    "    <ul><li>selling_price</li></ul>\n",
    "</ul>\n"
   ]
  }
 ],
 "metadata": {
  "kernelspec": {
   "display_name": "Python 3 (ipykernel)",
   "language": "python",
   "name": "python3"
  },
  "language_info": {
   "codemirror_mode": {
    "name": "ipython",
    "version": 3
   },
   "file_extension": ".py",
   "mimetype": "text/x-python",
   "name": "python",
   "nbconvert_exporter": "python",
   "pygments_lexer": "ipython3",
   "version": "3.11.3"
  }
 },
 "nbformat": 4,
 "nbformat_minor": 5
}
