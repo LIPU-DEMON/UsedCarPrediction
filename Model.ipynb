{
 "cells": [
  {
   "cell_type": "code",
   "execution_count": 1,
   "id": "8438f29a-cbe0-4417-922b-59f336db4645",
   "metadata": {},
   "outputs": [],
   "source": [
    "#import required Libraries!\n",
    "import pandas as pd\n",
    "import numpy as np \n",
    "import seaborn as sns\n",
    "import matplotlib.pyplot as plt\n",
    "from sklearn.preprocessing import OneHotEncoder\n",
    "from sklearn.preprocessing import StandardScaler\n",
    "from sklearn.decomposition import PCA\n",
    "from sklearn.model_selection import RandomizedSearchCV,GridSearchCV\n",
    "import warnings"
   ]
  },
  {
   "cell_type": "markdown",
   "id": "8dc6f80d-0e2b-4b4f-8b01-1be6c5da2d3c",
   "metadata": {},
   "source": [
    "<ul>\n",
    "    <li type=\"I\"><strong>Problem : Predicting Used Cars Prices Based Upon their Features : Based On India</strong></li>\n",
    "    <ul><li>car_name</li></ul>\n",
    "    <ul><li>brand</li></ul>\n",
    "    <ul><li>model</li></ul>\n",
    "    <ul><li>vehicle_age</li></ul>\n",
    "    <ul><li>km_driven</li></ul>\n",
    "    <ul><li>seller_type</li></ul>\n",
    "    <ul><li>fuel_type</li></ul>\n",
    "    <ul><li>transmission_type</li></ul>\n",
    "    <ul><li>mileage</li></ul>\n",
    "    <ul><li>engine</li></ul>\n",
    "    <ul><li>max_power</li></ul>\n",
    "    <ul><li>seats</li></ul>\n",
    "    <ul><li>selling_price</li></ul>\n",
    "</ul>\n"
   ]
  },
  {
   "cell_type": "code",
   "execution_count": 32,
   "id": "3c923722-2dc6-4dfa-8698-fe2fe981a175",
   "metadata": {},
   "outputs": [],
   "source": [
    "# Encoding Categorical Features\n",
    "# categorical = Car_df.iloc[:,[0,1,2,5,6,7]]\n",
    "# Encode = OneHotEncoder(sparse_output=False)\n",
    "# array = Encode.fit_transform(categorical)\n",
    "# new_df = pd.DataFrame(array,columns=Encode.get_feature_names_out(categorical.columns))\n",
    "# Car_df = Car_df.drop(columns=[\"car_name\",\"brand\",\"model\",\"seller_type\",\"fuel_type\",\"transmission_type\"])\n",
    "# CarDF =  pd.concat([new_df,Car_df],axis=1) #transform dataset"
   ]
  },
  {
   "cell_type": "code",
   "execution_count": null,
   "id": "41e0b0ab-fc15-4977-b820-ccdb9511cca2",
   "metadata": {},
   "outputs": [],
   "source": [
    "# Principle Component Analysis(PCA)\n",
    "# Checking Whether its In SNF\n",
    "# features = CarDF.drop(columns=\"selling_price\")\n",
    "# SNF = StandardScaler()\n",
    "# array_ = SNF.fit_transform(features)\n",
    "# CarDF_dummy = pd.DataFrame(array_,columns=features.columns)\n",
    "# CarDF_dummy.describe()\n",
    "# # Covariance Matrix\n",
    "# cov_matrix = np.cov(CarDF_dummy,rowvar=False)\n",
    "# # eigen value and vectors\n",
    "# eigenvalues ,  eigenvectors = np.linalg.eig(cov_matrix)"
   ]
  },
  {
   "cell_type": "code",
   "execution_count": null,
   "id": "d243615e-e79d-442c-90ce-aa80fe71681b",
   "metadata": {},
   "outputs": [],
   "source": [
    "# PCA_ = PCA(n_components=0.95)\n",
    "# PCA_.fit_transform(CarDF_dummy)"
   ]
  },
  {
   "cell_type": "code",
   "execution_count": null,
   "id": "40c53f16-c4b8-4718-88cc-2e82353047ee",
   "metadata": {},
   "outputs": [],
   "source": [
    "# plt.plot(np.cumsum(PCA_.explained_variance_ratio_))\n",
    "# plt.xlabel(\"Dimensions\")\n",
    "# plt.ylabel(\"ExplainedVariance\")\n",
    "# plt.savefig(\"plotPCA.png\")\n",
    "# plt.plot()"
   ]
  },
  {
   "cell_type": "code",
   "execution_count": null,
   "id": "c68cdfbc-d315-487b-8ec5-356f3fb8aea8",
   "metadata": {},
   "outputs": [],
   "source": [
    "\n"
   ]
  },
  {
   "cell_type": "code",
   "execution_count": null,
   "id": "4c860d03-6a35-4711-afa2-6a180bcc6031",
   "metadata": {},
   "outputs": [],
   "source": []
  },
  {
   "cell_type": "code",
   "execution_count": null,
   "id": "bf8af1fd-6974-4df8-83cb-1e3015aa04a8",
   "metadata": {},
   "outputs": [],
   "source": []
  },
  {
   "cell_type": "code",
   "execution_count": null,
   "id": "0f6e6e8c-9c99-4644-8e03-696688a04be6",
   "metadata": {},
   "outputs": [],
   "source": []
  },
  {
   "cell_type": "code",
   "execution_count": null,
   "id": "0de35c00-57b9-4bc7-8736-eb59d624386d",
   "metadata": {},
   "outputs": [],
   "source": []
  },
  {
   "cell_type": "code",
   "execution_count": null,
   "id": "229a867e-c8b0-462e-8ed5-88559d3c41c5",
   "metadata": {},
   "outputs": [],
   "source": [
    "\n"
   ]
  },
  {
   "cell_type": "code",
   "execution_count": null,
   "id": "af4243f9-da0b-4f75-9ac8-fb2e46f6ec1f",
   "metadata": {},
   "outputs": [],
   "source": []
  }
 ],
 "metadata": {
  "kernelspec": {
   "display_name": "Python 3 (ipykernel)",
   "language": "python",
   "name": "python3"
  },
  "language_info": {
   "codemirror_mode": {
    "name": "ipython",
    "version": 3
   },
   "file_extension": ".py",
   "mimetype": "text/x-python",
   "name": "python",
   "nbconvert_exporter": "python",
   "pygments_lexer": "ipython3",
   "version": "3.11.3"
  }
 },
 "nbformat": 4,
 "nbformat_minor": 5
}
